{
  "nbformat": 4,
  "nbformat_minor": 0,
  "metadata": {
    "colab": {
      "name": "task1synapse.ipynb",
      "provenance": [],
      "collapsed_sections": []
    },
    "kernelspec": {
      "name": "python3",
      "display_name": "Python 3"
    },
    "language_info": {
      "name": "python"
    }
  },
  "cells": [
    {
      "cell_type": "code",
      "metadata": {
        "colab": {
          "base_uri": "https://localhost:8080/",
          "height": 348
        },
        "id": "9dQzvL0jCHdD",
        "outputId": "55f0743e-5250-4fd5-a76a-82bd37535f06"
      },
      "source": [
        "from google.colab import drive\n",
        "\n",
        "drive.mount('/content/drive')\n",
        "\n",
        "import cv2\n",
        "\n",
        "from google.colab.patches import cv2_imshow\n",
        "\n",
        "image=cv2.imread(\"/content/drive/MyDrive/Rectangles.png\")\n",
        "# Next, we read in the image, which in this case is , Containers.png\n",
        "\n",
        "original_image = image\n",
        "# We create the variable, original_image, to store the original image that will undergo modification throughout the code.\n",
        "\n",
        "gray = cv2.cvtColor(image, cv2.COLOR_BGR2GRAY)\n",
        "edges = cv2.Canny(gray, 50, 200)\n",
        "# We create a grayscale version of the image and then find the Canny edges, which helps simplify the image for cvs.findContours() function. The cv2.findContours() function finds all external contours in our image, which finds the unique objects in an image.\n",
        "\n",
        "contours, hierarchy = cv2.findContours(\n",
        "    edges.copy(), cv2.RETR_EXTERNAL, cv2.CHAIN_APPROX_NONE)\n",
        "\n",
        "\n",
        "cv2.destroyAllWindows()\n",
        "\n",
        "\n",
        "def get_contour_areas(contours):\n",
        "\n",
        "    all_areas = []\n",
        "\n",
        "    for cnt in contours:\n",
        "        area = cv2.contourArea(cnt)\n",
        "        all_areas.append(area)\n",
        "\n",
        "    return all_areas\n",
        "#We then create a function that finds all the areas of each of the contours in our image and stores this in a list in the variable, all_areas. This function returns this list.\n",
        "\n",
        "sorted_contours = sorted(contours, key=cv2.contourArea, reverse=True)\n",
        "# We then sort this list from largest to smallest using the sorted() function. We store this sorted list into the variable, sorted_contours. We sort a list from largest to smallest by the attribute, reverse = True. To sort a list from smallest to largest by the attribute, reverse = False, or by specifying nothing in the reverse attribute, as reverse = False, is implied if not specified.\n",
        "\n",
        "largest_item = sorted_contours[0]\n",
        "# Now that the list is sorted from largest to smallest, the first item in the list is the largest item, which represents the largest object in our image. We get the largest item with the code, largest_item = sorted_contours[0]\n",
        "# Lists always started with an index of 0. So the 0 index item is the first item and , thus, the largest object.\n",
        "\n",
        "cv2.drawContours(original_image, largest_item, -1, (255, 0, 0), 10)\n",
        "# We then outline this largest object in blue with the drawContours() function.In OpenCV, finding contours is like finding white object from black background. So remember, object to be found should be white and background should be black.\n",
        "\n",
        "cv2.waitKey(0)\n",
        "img = cv2.imread('Largest Object')\n",
        "cv2_imshow(original_image)\n",
        "\n",
        "cv2.waitKey(0)\n",
        "cv2.destroyAllWindows()"
      ],
      "execution_count": 1,
      "outputs": [
        {
          "output_type": "stream",
          "name": "stdout",
          "text": [
            "Mounted at /content/drive\n"
          ]
        },
        {
          "output_type": "display_data",
          "data": {
            "image/png": "[encoded data removed]",
            "text/plain": [
              "<PIL.Image.Image image mode=RGB size=737x314 at 0x7F7A36F46A10>"
            ]
          },
          "metadata": {}
        }
      ]
    }
  ]
}